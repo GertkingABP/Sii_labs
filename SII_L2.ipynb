{
  "nbformat": 4,
  "nbformat_minor": 0,
  "metadata": {
    "colab": {
      "provenance": [],
      "authorship_tag": "ABX9TyMaZ3ynodMzJErx1EoEHFj+",
      "include_colab_link": true
    },
    "kernelspec": {
      "name": "ir",
      "display_name": "R"
    },
    "language_info": {
      "name": "R"
    }
  },
  "cells": [
    {
      "cell_type": "markdown",
      "metadata": {
        "id": "view-in-github",
        "colab_type": "text"
      },
      "source": [
        "<a href=\"https://colab.research.google.com/github/GertkingABP/Sii_labs/blob/main/SII_L2.ipynb\" target=\"_parent\"><img src=\"https://colab.research.google.com/assets/colab-badge.svg\" alt=\"Open In Colab\"/></a>"
      ]
    },
    {
      "cell_type": "markdown",
      "source": [
        "Задание: Создать фрейм данных из N записей со следующими полями: Nrow – номер записи, Name – имя сотрудника, BirthYear – год рождения, EmployYear – год приема на работу, Salary – зарплата. Заполнить данный фрейм данными так, что Nrow изменяется от 1 до N. Name задается произвольно, BirthYear распределено равномерно (случайно) на отрезке [1960, 1995], EmployYear распределен равномерно на отрезке [BirthYear+18, 2009], Salary задается произвольно в интервале от 15000 до 50000. Подсчитать число сотрудников с зарплатой, больше 25000. Добавить в таблицу поле, соответствующее суммарному подоходному налогу (ставка 15%), выплаченному сотрудником за время работы в организации."
      ],
      "metadata": {
        "id": "RblF6vI3sWOq"
      }
    },
    {
      "cell_type": "code",
      "source": [
        "# исходное число записей и последовательность для нумерации\n",
        "N <- 150\n",
        "Nrow <- 1:N"
      ],
      "metadata": {
        "id": "6NnFQ0IZsjTy"
      },
      "execution_count": 2,
      "outputs": []
    },
    {
      "cell_type": "code",
      "source": [
        "# формирование вектора случайно сгенерированных имен\n",
        "gen_name <- function(x) {\n",
        "  # lists of names examples\n",
        "  name_list <- c(\"Billy\", \"Sue\", \"Jim\", \"Tommy\", \"Sam\", \"Andrea\", \"Liza\")\n",
        "  surname_list<- c(\"Swith\", \"Bay\", \"Brown\", \"Jackson\", \"Willson\", \"Connor\", \"Sweet\")\n",
        "  \n",
        "  names_len <- length(name_list)\n",
        "  \n",
        "  emp_name <- paste(\n",
        "    name_list[sample(1:names_len, 1)], \n",
        "    surname_list[sample(1:names_len, 1)]\n",
        "  )\n",
        "  emp_name\n",
        "}\n",
        "\n",
        "Name <- sapply(Nrow, gen_name)"
      ],
      "metadata": {
        "id": "ZAjDcjblssez"
      },
      "execution_count": 3,
      "outputs": []
    },
    {
      "cell_type": "code",
      "source": [
        "# остальные вектора\n",
        "gen_empl_year <- function(birthday) {\n",
        "  sample((birthday + 18):2009, 1)\n",
        "}\n",
        "\n",
        "BirthYear <- sample(1960:1995, N, replace=T)\n",
        "\n",
        "EmployYear <- sapply(BirthYear, gen_empl_year)\n",
        "\n",
        "Salary <- sample(15000:50000, N, replace=T)"
      ],
      "metadata": {
        "id": "ZmyEKHdTtgsc"
      },
      "execution_count": 4,
      "outputs": []
    },
    {
      "cell_type": "code",
      "source": [
        "# собираем датафрейм и выводим его\n",
        "df <- data.frame(\n",
        "  Nrow=Nrow,\n",
        "  Name=Name,\n",
        "  BirthYear=BirthYear,\n",
        "  EmployYear=EmployYear,\n",
        "  Salary=Salary\n",
        ")\n",
        "\n",
        "head(df)"
      ],
      "metadata": {
        "colab": {
          "base_uri": "https://localhost:8080/",
          "height": 286
        },
        "id": "7_NvTii1t1BQ",
        "outputId": "2db57c3a-3c97-429d-843b-c34882f1f9a1"
      },
      "execution_count": 5,
      "outputs": [
        {
          "output_type": "display_data",
          "data": {
            "text/html": [
              "<table class=\"dataframe\">\n",
              "<caption>A data.frame: 6 × 5</caption>\n",
              "<thead>\n",
              "\t<tr><th></th><th scope=col>Nrow</th><th scope=col>Name</th><th scope=col>BirthYear</th><th scope=col>EmployYear</th><th scope=col>Salary</th></tr>\n",
              "\t<tr><th></th><th scope=col>&lt;int&gt;</th><th scope=col>&lt;chr&gt;</th><th scope=col>&lt;int&gt;</th><th scope=col>&lt;int&gt;</th><th scope=col>&lt;int&gt;</th></tr>\n",
              "</thead>\n",
              "<tbody>\n",
              "\t<tr><th scope=row>1</th><td>1</td><td>Andrea Willson</td><td>1967</td><td>1994</td><td>26626</td></tr>\n",
              "\t<tr><th scope=row>2</th><td>2</td><td>Sue Willson   </td><td>1966</td><td>1997</td><td>19016</td></tr>\n",
              "\t<tr><th scope=row>3</th><td>3</td><td>Sue Swith     </td><td>1980</td><td>2002</td><td>15413</td></tr>\n",
              "\t<tr><th scope=row>4</th><td>4</td><td>Sue Swith     </td><td>1969</td><td>2003</td><td>28679</td></tr>\n",
              "\t<tr><th scope=row>5</th><td>5</td><td>Tommy Swith   </td><td>1968</td><td>1986</td><td>49798</td></tr>\n",
              "\t<tr><th scope=row>6</th><td>6</td><td>Tommy Bay     </td><td>1983</td><td>2005</td><td>16884</td></tr>\n",
              "</tbody>\n",
              "</table>\n"
            ],
            "text/markdown": "\nA data.frame: 6 × 5\n\n| <!--/--> | Nrow &lt;int&gt; | Name &lt;chr&gt; | BirthYear &lt;int&gt; | EmployYear &lt;int&gt; | Salary &lt;int&gt; |\n|---|---|---|---|---|---|\n| 1 | 1 | Andrea Willson | 1967 | 1994 | 26626 |\n| 2 | 2 | Sue Willson    | 1966 | 1997 | 19016 |\n| 3 | 3 | Sue Swith      | 1980 | 2002 | 15413 |\n| 4 | 4 | Sue Swith      | 1969 | 2003 | 28679 |\n| 5 | 5 | Tommy Swith    | 1968 | 1986 | 49798 |\n| 6 | 6 | Tommy Bay      | 1983 | 2005 | 16884 |\n\n",
            "text/latex": "A data.frame: 6 × 5\n\\begin{tabular}{r|lllll}\n  & Nrow & Name & BirthYear & EmployYear & Salary\\\\\n  & <int> & <chr> & <int> & <int> & <int>\\\\\n\\hline\n\t1 & 1 & Andrea Willson & 1967 & 1994 & 26626\\\\\n\t2 & 2 & Sue Willson    & 1966 & 1997 & 19016\\\\\n\t3 & 3 & Sue Swith      & 1980 & 2002 & 15413\\\\\n\t4 & 4 & Sue Swith      & 1969 & 2003 & 28679\\\\\n\t5 & 5 & Tommy Swith    & 1968 & 1986 & 49798\\\\\n\t6 & 6 & Tommy Bay      & 1983 & 2005 & 16884\\\\\n\\end{tabular}\n",
            "text/plain": [
              "  Nrow Name           BirthYear EmployYear Salary\n",
              "1 1    Andrea Willson 1967      1994       26626 \n",
              "2 2    Sue Willson    1966      1997       19016 \n",
              "3 3    Sue Swith      1980      2002       15413 \n",
              "4 4    Sue Swith      1969      2003       28679 \n",
              "5 5    Tommy Swith    1968      1986       49798 \n",
              "6 6    Tommy Bay      1983      2005       16884 "
            ]
          },
          "metadata": {}
        }
      ]
    },
    {
      "cell_type": "code",
      "source": [
        "salary_cmp_count <- nrow(df[df$Salary > 25000,])\n",
        "cat(sprintf(\"Число сотрудников с зарплатой, больше 25000: %i\", salary_cmp_count))"
      ],
      "metadata": {
        "colab": {
          "base_uri": "https://localhost:8080/"
        },
        "id": "A_MT65tguFzp",
        "outputId": "5535df8c-3e79-4072-e6de-d98077643ef3"
      },
      "execution_count": 6,
      "outputs": [
        {
          "output_type": "stream",
          "name": "stdout",
          "text": [
            "Число сотрудников с зарплатой, больше 25000: 110"
          ]
        }
      ]
    },
    {
      "cell_type": "code",
      "source": [
        "# расчет суммарного подоходного налога за все время работы в организации\n",
        "currrent_year <- as.numeric(format(Sys.Date(), format=\"%Y\"))\n",
        "df$TotalIncomeTax <- with(df, (currrent_year - EmployYear)*Salary*0.15)\n",
        "\n",
        "# финальный результат\n",
        "head(df)"
      ],
      "metadata": {
        "colab": {
          "base_uri": "https://localhost:8080/",
          "height": 286
        },
        "id": "zGT9Zu1IuVmD",
        "outputId": "c045ca3b-7368-40ca-9f33-9239bb019673"
      },
      "execution_count": 7,
      "outputs": [
        {
          "output_type": "display_data",
          "data": {
            "text/html": [
              "<table class=\"dataframe\">\n",
              "<caption>A data.frame: 6 × 6</caption>\n",
              "<thead>\n",
              "\t<tr><th></th><th scope=col>Nrow</th><th scope=col>Name</th><th scope=col>BirthYear</th><th scope=col>EmployYear</th><th scope=col>Salary</th><th scope=col>TotalIncomeTax</th></tr>\n",
              "\t<tr><th></th><th scope=col>&lt;int&gt;</th><th scope=col>&lt;chr&gt;</th><th scope=col>&lt;int&gt;</th><th scope=col>&lt;int&gt;</th><th scope=col>&lt;int&gt;</th><th scope=col>&lt;dbl&gt;</th></tr>\n",
              "</thead>\n",
              "<tbody>\n",
              "\t<tr><th scope=row>1</th><td>1</td><td>Andrea Willson</td><td>1967</td><td>1994</td><td>26626</td><td>111829.20</td></tr>\n",
              "\t<tr><th scope=row>2</th><td>2</td><td>Sue Willson   </td><td>1966</td><td>1997</td><td>19016</td><td> 71310.00</td></tr>\n",
              "\t<tr><th scope=row>3</th><td>3</td><td>Sue Swith     </td><td>1980</td><td>2002</td><td>15413</td><td> 46239.00</td></tr>\n",
              "\t<tr><th scope=row>4</th><td>4</td><td>Sue Swith     </td><td>1969</td><td>2003</td><td>28679</td><td> 81735.15</td></tr>\n",
              "\t<tr><th scope=row>5</th><td>5</td><td>Tommy Swith   </td><td>1968</td><td>1986</td><td>49798</td><td>268909.20</td></tr>\n",
              "\t<tr><th scope=row>6</th><td>6</td><td>Tommy Bay     </td><td>1983</td><td>2005</td><td>16884</td><td> 43054.20</td></tr>\n",
              "</tbody>\n",
              "</table>\n"
            ],
            "text/markdown": "\nA data.frame: 6 × 6\n\n| <!--/--> | Nrow &lt;int&gt; | Name &lt;chr&gt; | BirthYear &lt;int&gt; | EmployYear &lt;int&gt; | Salary &lt;int&gt; | TotalIncomeTax &lt;dbl&gt; |\n|---|---|---|---|---|---|---|\n| 1 | 1 | Andrea Willson | 1967 | 1994 | 26626 | 111829.20 |\n| 2 | 2 | Sue Willson    | 1966 | 1997 | 19016 |  71310.00 |\n| 3 | 3 | Sue Swith      | 1980 | 2002 | 15413 |  46239.00 |\n| 4 | 4 | Sue Swith      | 1969 | 2003 | 28679 |  81735.15 |\n| 5 | 5 | Tommy Swith    | 1968 | 1986 | 49798 | 268909.20 |\n| 6 | 6 | Tommy Bay      | 1983 | 2005 | 16884 |  43054.20 |\n\n",
            "text/latex": "A data.frame: 6 × 6\n\\begin{tabular}{r|llllll}\n  & Nrow & Name & BirthYear & EmployYear & Salary & TotalIncomeTax\\\\\n  & <int> & <chr> & <int> & <int> & <int> & <dbl>\\\\\n\\hline\n\t1 & 1 & Andrea Willson & 1967 & 1994 & 26626 & 111829.20\\\\\n\t2 & 2 & Sue Willson    & 1966 & 1997 & 19016 &  71310.00\\\\\n\t3 & 3 & Sue Swith      & 1980 & 2002 & 15413 &  46239.00\\\\\n\t4 & 4 & Sue Swith      & 1969 & 2003 & 28679 &  81735.15\\\\\n\t5 & 5 & Tommy Swith    & 1968 & 1986 & 49798 & 268909.20\\\\\n\t6 & 6 & Tommy Bay      & 1983 & 2005 & 16884 &  43054.20\\\\\n\\end{tabular}\n",
            "text/plain": [
              "  Nrow Name           BirthYear EmployYear Salary TotalIncomeTax\n",
              "1 1    Andrea Willson 1967      1994       26626  111829.20     \n",
              "2 2    Sue Willson    1966      1997       19016   71310.00     \n",
              "3 3    Sue Swith      1980      2002       15413   46239.00     \n",
              "4 4    Sue Swith      1969      2003       28679   81735.15     \n",
              "5 5    Tommy Swith    1968      1986       49798  268909.20     \n",
              "6 6    Tommy Bay      1983      2005       16884   43054.20     "
            ]
          },
          "metadata": {}
        }
      ]
    }
  ]
}